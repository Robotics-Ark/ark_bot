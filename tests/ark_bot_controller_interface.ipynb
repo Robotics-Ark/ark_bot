{
 "cells": [
  {
   "cell_type": "markdown",
   "id": "ced5fc05",
   "metadata": {},
   "source": [
    "#### Note:\n",
    "\n",
    "Make sure that you have these two scripts running at the same time while running this\n",
    "\n",
    "ark regsitry start\n",
    "\n",
    "python sim_node.py"
   ]
  },
  {
   "cell_type": "code",
   "execution_count": 75,
   "id": "ad5f4a86",
   "metadata": {},
   "outputs": [
    {
     "name": "stderr",
     "output_type": "stream",
     "text": [
      "\u001b[93m[WARNING] [18:00:58.334754] - No global configuration provided. Using default system configuration.\u001b[0m\n",
      "\u001b[96m[INFO] [18:00:58.337701] - Service: Successfully registered '__DEFAULT_SERVICE/GetInfo/arkbot_controller_c965dca6-4c5d-419e-8b8f-31a048a5ef07' with registry.\u001b[0m\n",
      "\u001b[96m[INFO] [18:00:58.339367] - Service: Successfully registered '__DEFAULT_SERVICE/SuspendNode/arkbot_controller_c965dca6-4c5d-419e-8b8f-31a048a5ef07' with registry.\u001b[0m\n",
      "\u001b[96m[INFO] [18:00:58.341342] - Service: Successfully registered '__DEFAULT_SERVICE/RestartNode/arkbot_controller_c965dca6-4c5d-419e-8b8f-31a048a5ef07' with registry.\u001b[0m\n",
      "\u001b[91m[ERROR] [18:00:58.342158] - Couldn't load config for other 'arkbot_controller'\u001b[0m\n",
      "\u001b[92m\u001b[1m[OK] [18:00:58.343067] - setup publisher arkbot/joint_group_command[joint_group_command_t]\u001b[0m\n",
      "\u001b[92m\u001b[1m[OK] [18:00:58.343788] - setup publisher arkbot/joint_group_command[joint_group_command_t]\u001b[0m\n",
      "\u001b[92m\u001b[1m[OK] [18:00:58.344393] - setup publisher arkbot/cartesian_command[task_space_command_t]\u001b[0m\n",
      "\u001b[92m\u001b[1m[OK] [18:00:58.345517] - subscribed to arkbot/joint_states[joint_state_t]\u001b[0m\n"
     ]
    },
    {
     "name": "stdout",
     "output_type": "stream",
     "text": [
      "None\n"
     ]
    }
   ],
   "source": [
    "import time\n",
    "import numpy as np\n",
    "from arktypes import joint_group_command_t, task_space_command_t, joint_state_t\n",
    "from arktypes.utils import pack, unpack\n",
    "from ark.client.comm_infrastructure.instance_node import InstanceNode\n",
    "\n",
    "ROBOT_NAME = \"arkbot\" # ArkBot\n",
    "SIM = False\n",
    "\n",
    "class HarkControllerNode(InstanceNode):\n",
    "    def __init__(self):\n",
    "        super().__init__(\"arkbot_controller\") # ArkBotController\n",
    "        suffix = \"/sim\" if SIM else \"\"\n",
    "        base = f\"{ROBOT_NAME}\"\n",
    "\n",
    "        # pubs\n",
    "        self.joint_group_command = self.create_publisher(f\"{base}/joint_group_command{suffix}\", joint_group_command_t)\n",
    "        self.joint_group_command_real = self.create_publisher(f\"{base}/joint_group_command\", joint_group_command_t)\n",
    "        self.task_space_command  = self.create_publisher(f\"{base}/cartesian_command{suffix}\", task_space_command_t)\n",
    "\n",
    "        # subs\n",
    "        self.state = self.create_listener(f\"{base}/joint_states{suffix}\", joint_state_t)\n",
    "\n",
    "node = HarkControllerNode()\n"
   ]
  },
  {
   "cell_type": "markdown",
   "id": "7142c226",
   "metadata": {},
   "source": [
    "---"
   ]
  },
  {
   "cell_type": "markdown",
   "id": "e9f1afe2",
   "metadata": {},
   "source": [
    "# Joint Group Control"
   ]
  },
  {
   "cell_type": "code",
   "execution_count": 96,
   "id": "d86ec1f1",
   "metadata": {},
   "outputs": [],
   "source": [
    "all_cmd = [\n",
    "    1.0,   # Revolute 1 (continuous)\n",
    "     0.0,   # Revolute 2 (rad)\n",
    "     0.0,   # Revolute 4 (rad)\n",
    "     0.00,   # Revolute 5 (continuous)\n",
    "     0.00,   # Revolute 6 (rad)\n",
    "     0.000   # Slider 7 position in meters (range 0.0 .. 0.0425)\n",
    "]\n",
    "node.joint_group_command.publish(pack.joint_group_command(all_cmd, \"all\"))"
   ]
  },
  {
   "cell_type": "code",
   "execution_count": 167,
   "id": "8a3d08a3",
   "metadata": {},
   "outputs": [],
   "source": [
    "home =  [0.0, 0.0, 0.0, 0.00, 0.0, 0.0, 0.0]\n",
    "approach_upper = [0.4, 0, 1.2, -2.0, 0.0, 2, 0.0]\n",
    "contact_upper = [0.4, -0.3, 1.3, -2.0, 0.0, 2.2, 0.0]\n",
    "push_upper = [0.4, -0.3, 1.3, -1.2, 0.0, 1.6, 0.0]\n",
    "lower_upper = [0.4, -0.3, 1.3, -2.0, 0.0, 2.2, 0.0]\n",
    "approach_lower = [0.4, -0.3, 1.8, -2.0, 0.0, 2.2, 0.0]\n",
    "contact_lower = [0.4, -0.4, 1.8, -1.5, 0.0, 2.2, 0.0]\n",
    "push_lower = [0.4, -0.4, 1.8, -0.5, 0.0, 1.4, 0.0]\n",
    "retract_lower = [0.4, 0.3, 1.8, -2.0, 0.0, 2.2, 0.0]\n"
   ]
  },
  {
   "cell_type": "code",
   "execution_count": 257,
   "id": "57472401",
   "metadata": {},
   "outputs": [],
   "source": [
    "node.joint_group_command.publish(pack.joint_group_command(home, \"all\"))"
   ]
  },
  {
   "cell_type": "code",
   "execution_count": 140,
   "id": "1e6e191f",
   "metadata": {},
   "outputs": [],
   "source": [
    "node.joint_group_command.publish(pack.joint_group_command(approach_upper, \"all\"))"
   ]
  },
  {
   "cell_type": "code",
   "execution_count": 156,
   "id": "f4873cd2",
   "metadata": {},
   "outputs": [],
   "source": [
    "node.joint_group_command.publish(pack.joint_group_command(contact_upper, \"all\"))"
   ]
  },
  {
   "cell_type": "code",
   "execution_count": 162,
   "id": "7fcfe217",
   "metadata": {},
   "outputs": [],
   "source": [
    "node.joint_group_command.publish(pack.joint_group_command(push_upper, \"all\"))"
   ]
  },
  {
   "cell_type": "code",
   "execution_count": 163,
   "id": "f9fdbb2d",
   "metadata": {},
   "outputs": [],
   "source": [
    "node.joint_group_command.publish(pack.joint_group_command(lower_upper, \"all\"))"
   ]
  },
  {
   "cell_type": "code",
   "execution_count": 164,
   "id": "98e1d790",
   "metadata": {},
   "outputs": [],
   "source": [
    "node.joint_group_command.publish(pack.joint_group_command(approach_lower, \"all\"))"
   ]
  },
  {
   "cell_type": "code",
   "execution_count": 168,
   "id": "b7420504",
   "metadata": {},
   "outputs": [],
   "source": [
    "node.joint_group_command.publish(pack.joint_group_command(contact_lower, \"all\"))"
   ]
  },
  {
   "cell_type": "code",
   "execution_count": 169,
   "id": "c06c135e",
   "metadata": {},
   "outputs": [],
   "source": [
    "node.joint_group_command.publish(pack.joint_group_command(push_lower, \"all\"))"
   ]
  },
  {
   "cell_type": "code",
   "execution_count": 170,
   "id": "95aea9a8",
   "metadata": {},
   "outputs": [],
   "source": [
    "node.joint_group_command.publish(pack.joint_group_command(retract_lower, \"all\"))"
   ]
  },
  {
   "cell_type": "code",
   "execution_count": null,
   "id": "4aebb2f3",
   "metadata": {},
   "outputs": [],
   "source": [
    "home2 =  [-1.5, 0, 1.2, -2.0, 0.0, 2, 0.0]\n",
    "first = [-1.2, -0.3, 1.2, -2.0, 0.0, 2, 0.0]\n",
    "second = [-1.2, -0.5, 2, -1.5, 0.0, 2.2, 0.0]\n",
    "third = [-1.2, -0.5, 2, -0.8, 0.0, 1.8, 0.0]\n",
    "fourth = [-1.2, -0.5, 2, -0.8, 0.0, 1.8, 0.15]\n",
    "fifth = [-1.2, -0.3, 1.8, -1, 0.0, 2.0, 0.15]\n",
    "sixth = [-1.9, -0.3, 1.8, -1, 0.0, 2.0, 0.15]\n",
    "seventh = [-1.9, -0.5, 2, -0.8, 0.0, 1.8, 0.15]\n",
    "eighth = [-1.9, -0.5, 2, -0.8, 0.0, 1.8, 0]\n"
   ]
  },
  {
   "cell_type": "code",
   "execution_count": null,
   "id": "b195da49",
   "metadata": {},
   "outputs": [],
   "source": [
    "node.joint_group_command.publish(pack.joint_group_command(eighth, \"all\"))"
   ]
  },
  {
   "cell_type": "code",
   "execution_count": 259,
   "id": "73773d0c",
   "metadata": {},
   "outputs": [],
   "source": [
    "node.joint_group_command.publish(pack.joint_group_command(home2, \"all\"))"
   ]
  },
  {
   "cell_type": "code",
   "execution_count": 209,
   "id": "ccfcf552",
   "metadata": {},
   "outputs": [],
   "source": [
    "node.joint_group_command.publish(pack.joint_group_command(first, \"all\"))"
   ]
  },
  {
   "cell_type": "code",
   "execution_count": 216,
   "id": "c4fbccc5",
   "metadata": {},
   "outputs": [],
   "source": [
    "node.joint_group_command.publish(pack.joint_group_command(second, \"all\"))"
   ]
  },
  {
   "cell_type": "code",
   "execution_count": 238,
   "id": "3b4acfd3",
   "metadata": {},
   "outputs": [],
   "source": [
    "node.joint_group_command.publish(pack.joint_group_command(third, \"all\"))"
   ]
  },
  {
   "cell_type": "code",
   "execution_count": 239,
   "id": "a023d694",
   "metadata": {},
   "outputs": [],
   "source": [
    "node.joint_group_command.publish(pack.joint_group_command(fourth, \"all\"))"
   ]
  },
  {
   "cell_type": "code",
   "execution_count": null,
   "id": "4b9e4d79",
   "metadata": {},
   "outputs": [],
   "source": [
    "node.joint_group_command.publish(pack.joint_group_command(fifth, \"all\"))"
   ]
  },
  {
   "cell_type": "code",
   "execution_count": null,
   "id": "c4067ee6",
   "metadata": {},
   "outputs": [],
   "source": [
    "node.joint_group_command.publish(pack.joint_group_command(sixth, \"all\"))"
   ]
  },
  {
   "cell_type": "code",
   "execution_count": null,
   "id": "45314bee",
   "metadata": {},
   "outputs": [],
   "source": [
    "node.joint_group_command.publish(pack.joint_group_command(seventh, \"all\"))"
   ]
  },
  {
   "cell_type": "code",
   "execution_count": null,
   "id": "27ca4f74",
   "metadata": {},
   "outputs": [],
   "source": [
    "node.joint_group_command.publish(pack.joint_group_command(eighth, \"all\"))"
   ]
  },
  {
   "cell_type": "code",
   "execution_count": 613,
   "id": "f6509e4f",
   "metadata": {},
   "outputs": [
    {
     "name": "stdout",
     "output_type": "stream",
     "text": [
      "[ 0.4000281   0.         -1.2000843   2.00031095  0.          2.05553426\n",
      "  0.        ]\n"
     ]
    }
   ],
   "source": [
    "# save the position offset, click this once when the robot is in the zero position\n",
    "# unpack.joint_state(node.state.get())\n",
    "\n",
    "joint_state_data = unpack.joint_state(node.state.get())\n",
    "\n",
    "joint_positions = joint_state_data[2]\n",
    "\n",
    "print(joint_positions)\n",
    "\n"
   ]
  },
  {
   "cell_type": "code",
   "execution_count": 7,
   "id": "65434399",
   "metadata": {},
   "outputs": [],
   "source": [
    "# GRIPPER (velocity mode): single value for Slider 7 velocity (m/s)\n",
    "gripper_vel_open  = [ +0.010 ]   # open slowly\n",
    "gripper_vel_close = [ -0.010 ]   # close slowly\n",
    "node.joint_group_command.publish(pack.joint_group_command(gripper_vel_open, \"gripper\"))"
   ]
  },
  {
   "cell_type": "code",
   "execution_count": 8,
   "id": "df953d1a",
   "metadata": {},
   "outputs": [],
   "source": [
    "# ARM (position mode): 6 values, Revolute 1..6\n",
    "arm_cmd = [-0.30, 0.50, 0.30, -1.00, 0.10, 0.80]\n",
    "node.joint_group_command.publish(pack.joint_group_command(arm_cmd, \"arm\"))\n"
   ]
  },
  {
   "cell_type": "markdown",
   "id": "7e0a44fc",
   "metadata": {},
   "source": [
    "---"
   ]
  },
  {
   "cell_type": "markdown",
   "id": "dd5a9751",
   "metadata": {},
   "source": [
    "# Task Space Control"
   ]
  },
  {
   "cell_type": "code",
   "execution_count": 7,
   "id": "1187b61d",
   "metadata": {},
   "outputs": [],
   "source": [
    "xyz_command = np.array([0.3, 0.4, 0.8])\n",
    "quaternion_command = np.array([1, 0.0, 0.0, 0.0]) # xyz-w\n",
    "gripper = 1.0 # 0.0 close, 1.0 open\n",
    "\n",
    "controller.task_space_command.publish(\n",
    "    pack.task_space_command(\"all\", xyz_command, quaternion_command, gripper))"
   ]
  },
  {
   "cell_type": "markdown",
   "id": "c7feafb1",
   "metadata": {},
   "source": [
    "---\n"
   ]
  },
  {
   "cell_type": "markdown",
   "id": "aa0d1111",
   "metadata": {},
   "source": [
    "# Joint States"
   ]
  },
  {
   "cell_type": "code",
   "execution_count": 287,
   "id": "5dde03a7",
   "metadata": {},
   "outputs": [
    {
     "data": {
      "text/plain": [
       "({'seq': 0, 'stamp': {'sec': 0, 'nsec': 0}, 'frame_id': ''},\n",
       " ['Revolute 1',\n",
       "  'Revolute 2',\n",
       "  'Revolute 3',\n",
       "  'Revolute 4',\n",
       "  'Revolute 5',\n",
       "  'Revolute 6',\n",
       "  'Slider 7'],\n",
       " array([0.99998503, 0.99998503, 0.        , 0.        , 0.        ,\n",
       "        0.        , 0.        ]),\n",
       " array([0., 0., 0., 0., 0., 0., 0.]),\n",
       " array([0., 0., 0., 0., 0., 0., 0.]))"
      ]
     },
     "execution_count": 287,
     "metadata": {},
     "output_type": "execute_result"
    }
   ],
   "source": [
    "unpack.joint_state(node.state.get())\n"
   ]
  },
  {
   "cell_type": "markdown",
   "id": "b2392093",
   "metadata": {},
   "source": [
    "# PYBULLET TESTING"
   ]
  },
  {
   "cell_type": "code",
   "execution_count": 73,
   "id": "4b976f75",
   "metadata": {},
   "outputs": [
    {
     "name": "stdout",
     "output_type": "stream",
     "text": [
      "0 Link1\n",
      "1 link2\n",
      "2 link3\n",
      "3 link4\n",
      "4 link5\n",
      "5 Hand\n",
      "6 finger1\n",
      "7 finger2\n",
      "IK solution: (-1.0618388096278041e-05, 0.0002203514868508854, 0.0007021935362270586, -1.0795412669870966e-05, 1.2113377418749757e-05, 0.0004775087422464768, 0.0, 0.0)\n"
     ]
    }
   ],
   "source": [
    "import pybullet as p, pybullet_data as pd, math\n",
    "\n",
    "p.connect(p.DIRECT)  # use GUI to debug\n",
    "p.setGravity(0, 0, -9.81)\n",
    "\n",
    "robot = p.loadURDF(\"/home/sarthakdas/Ark/ark_bot/arkbot/ark_bot.urdf\", [0, 0, 0], useFixedBase=True)\n",
    "\n",
    "# print(\"Joints in robot:\")\n",
    "for j in range(p.getNumJoints(robot)):\n",
    "    print(j, p.getJointInfo(robot, j)[12].decode())\n",
    "\n",
    "# # Pick correct end effector index after checking printout\n",
    "ee = 5\n",
    "\n",
    "target_pos = [0.0, 0.0, 0.5]\n",
    "target_orn = p.getQuaternionFromEuler([0.0, 0.0, 0.0])\n",
    "\n",
    "q = p.calculateInverseKinematics(robot, ee, target_pos, target_orn)\n",
    "\n",
    "print(\"IK solution:\", q[:p.getNumJoints(robot)])\n",
    "\n",
    "node.joint_group_command.publish(pack.joint_group_command(q, \"all\"))\n",
    "node.joint_group_command_real.publish(pack.joint_group_command(q, \"all\"))\n",
    "\n",
    "p.disconnect()\n"
   ]
  }
 ],
 "metadata": {
  "kernelspec": {
   "display_name": "ark_env",
   "language": "python",
   "name": "python3"
  },
  "language_info": {
   "codemirror_mode": {
    "name": "ipython",
    "version": 3
   },
   "file_extension": ".py",
   "mimetype": "text/x-python",
   "name": "python",
   "nbconvert_exporter": "python",
   "pygments_lexer": "ipython3",
   "version": "3.10.18"
  }
 },
 "nbformat": 4,
 "nbformat_minor": 5
}
