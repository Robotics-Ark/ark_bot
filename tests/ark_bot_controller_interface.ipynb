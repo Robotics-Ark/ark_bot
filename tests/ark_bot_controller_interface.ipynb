{
 "cells": [
  {
   "cell_type": "markdown",
   "id": "ced5fc05",
   "metadata": {},
   "source": [
    "#### Note:\n",
    "\n",
    "Make sure that you have these two scripts running at the same time while running this\n",
    "\n",
    "ark regsitry start\n",
    "\n",
    "python sim_node.py"
   ]
  },
  {
   "cell_type": "code",
   "execution_count": 76,
   "id": "ad5f4a86",
   "metadata": {},
   "outputs": [
    {
     "name": "stderr",
     "output_type": "stream",
     "text": [
      "\u001b[93m[WARNING] [23:47:18.873801] - No global configuration provided. Using default system configuration.\u001b[0m\n",
      "\u001b[96m[INFO] [23:47:18.875840] - Service: Successfully registered '__DEFAULT_SERVICE/GetInfo/arkbot_controller_42250ee7-0367-453b-aca5-cd4b11b0d72a' with registry.\u001b[0m\n",
      "\u001b[96m[INFO] [23:47:18.876873] - Service: Successfully registered '__DEFAULT_SERVICE/SuspendNode/arkbot_controller_42250ee7-0367-453b-aca5-cd4b11b0d72a' with registry.\u001b[0m\n",
      "\u001b[96m[INFO] [23:47:18.877795] - Service: Successfully registered '__DEFAULT_SERVICE/RestartNode/arkbot_controller_42250ee7-0367-453b-aca5-cd4b11b0d72a' with registry.\u001b[0m\n",
      "\u001b[91m[ERROR] [23:47:18.878308] - Couldn't load config for other 'arkbot_controller'\u001b[0m\n",
      "\u001b[92m\u001b[1m[OK] [23:47:18.878916] - setup publisher arkbot/joint_group_command[joint_group_command_t]\u001b[0m\n",
      "\u001b[92m\u001b[1m[OK] [23:47:18.879412] - setup publisher arkbot/joint_group_command[joint_group_command_t]\u001b[0m\n",
      "\u001b[92m\u001b[1m[OK] [23:47:18.880193] - setup publisher arkbot/cartesian_command[task_space_command_t]\u001b[0m\n",
      "\u001b[92m\u001b[1m[OK] [23:47:18.880585] - subscribed to arkbot/joint_states[joint_state_t]\u001b[0m\n"
     ]
    },
    {
     "name": "stdout",
     "output_type": "stream",
     "text": [
      "None\n"
     ]
    }
   ],
   "source": [
    "import time\n",
    "import numpy as np\n",
    "from arktypes import joint_group_command_t, task_space_command_t, joint_state_t\n",
    "from arktypes.utils import pack, unpack\n",
    "from ark.client.comm_infrastructure.instance_node import InstanceNode\n",
    "\n",
    "ROBOT_NAME = \"arkbot\" # ArkBot\n",
    "SIM = False\n",
    "\n",
    "class HarkControllerNode(InstanceNode):\n",
    "    def __init__(self):\n",
    "        super().__init__(\"arkbot_controller\") # ArkBotController\n",
    "        suffix = \"/sim\" if SIM else \"\"\n",
    "        base = f\"{ROBOT_NAME}\"\n",
    "\n",
    "        # pubs\n",
    "        self.joint_group_command = self.create_publisher(f\"{base}/joint_group_command{suffix}\", joint_group_command_t)\n",
    "        self.joint_group_command_real = self.create_publisher(f\"{base}/joint_group_command\", joint_group_command_t)\n",
    "        self.task_space_command  = self.create_publisher(f\"{base}/cartesian_command{suffix}\", task_space_command_t)\n",
    "\n",
    "        # subs\n",
    "        self.state = self.create_listener(f\"{base}/joint_states{suffix}\", joint_state_t)\n",
    "\n",
    "node = HarkControllerNode()\n"
   ]
  },
  {
   "cell_type": "markdown",
   "id": "7142c226",
   "metadata": {},
   "source": [
    "---"
   ]
  },
  {
   "cell_type": "markdown",
   "id": "e9f1afe2",
   "metadata": {},
   "source": [
    "# Joint Group Control"
   ]
  },
  {
   "cell_type": "code",
   "execution_count": 96,
   "id": "d86ec1f1",
   "metadata": {},
   "outputs": [],
   "source": [
    "all_cmd = [\n",
    "    1.0,   # Revolute 1 (continuous)\n",
    "     0.0,   # Revolute 2 (rad)\n",
    "     0.0,   # Revolute 4 (rad)\n",
    "     0.00,   # Revolute 5 (continuous)\n",
    "     0.00,   # Revolute 6 (rad)\n",
    "     0.000   # Slider 7 position in meters (range 0.0 .. 0.0425)\n",
    "]\n",
    "node.joint_group_command.publish(pack.joint_group_command(all_cmd, \"all\"))"
   ]
  },
  {
   "cell_type": "code",
   "execution_count": 117,
   "id": "8a3d08a3",
   "metadata": {},
   "outputs": [],
   "source": [
    "home =  [0.0, 0.0, 0.0, 0.00, 0.0, 0.0, 0.0]\n",
    "approach_upper = [0.4, 0, 1.2, -2.0, 0.0, 2, 0.0]\n",
    "contact_upper = [0.1, -0.3, 1.3, -2.0, 0.0, 2.2, 0.0]\n",
    "push_upper = [0.1, -0.3, 1.3, -1.2, 0.0, 1.6, 0.0]\n",
    "lower_upper = [0.4, -0.3, 1.3, -2.0, 0.0, 2.2, 0.0]\n",
    "approach_lower = [0.4, -0.3, 1.8, -2.0, 0.0, 2.2, 0.0]\n",
    "contact_lower = [0.4, -0.4, 1.8, -1.5, 0.0, 2.2, 0.0]\n",
    "push_lower = [0.4, -0.4, 1.8, -0.5, 0.0, 1.4, 0.0]\n",
    "retract_lower = [0.4, 0.3, 1.8, -2.0, 0.0, 2.2, 0.0]\n"
   ]
  },
  {
   "cell_type": "code",
   "execution_count": 124,
   "id": "f4873cd2",
   "metadata": {},
   "outputs": [],
   "source": [
    "node.joint_group_command.publish(pack.joint_group_command(contact_upper, \"all\"))"
   ]
  },
  {
   "cell_type": "code",
   "execution_count": 126,
   "id": "7fcfe217",
   "metadata": {},
   "outputs": [],
   "source": [
    "node.joint_group_command.publish(pack.joint_group_command(push_upper, \"all\"))"
   ]
  },
  {
   "cell_type": "code",
   "execution_count": 93,
   "id": "57472401",
   "metadata": {},
   "outputs": [],
   "source": [
    "node.joint_group_command.publish(pack.joint_group_command(home, \"all\"))"
   ]
  },
  {
   "cell_type": "code",
   "execution_count": 95,
   "id": "1e6e191f",
   "metadata": {},
   "outputs": [],
   "source": [
    "node.joint_group_command.publish(pack.joint_group_command(approach_upper, \"all\"))"
   ]
  },
  {
   "cell_type": "code",
   "execution_count": 163,
   "id": "f9fdbb2d",
   "metadata": {},
   "outputs": [],
   "source": [
    "node.joint_group_command.publish(pack.joint_group_command(lower_upper, \"all\"))"
   ]
  },
  {
   "cell_type": "code",
   "execution_count": 164,
   "id": "98e1d790",
   "metadata": {},
   "outputs": [],
   "source": [
    "node.joint_group_command.publish(pack.joint_group_command(approach_lower, \"all\"))"
   ]
  },
  {
   "cell_type": "code",
   "execution_count": 168,
   "id": "b7420504",
   "metadata": {},
   "outputs": [],
   "source": [
    "node.joint_group_command.publish(pack.joint_group_command(contact_lower, \"all\"))"
   ]
  },
  {
   "cell_type": "code",
   "execution_count": 169,
   "id": "c06c135e",
   "metadata": {},
   "outputs": [],
   "source": [
    "node.joint_group_command.publish(pack.joint_group_command(push_lower, \"all\"))"
   ]
  },
  {
   "cell_type": "code",
   "execution_count": 170,
   "id": "95aea9a8",
   "metadata": {},
   "outputs": [],
   "source": [
    "node.joint_group_command.publish(pack.joint_group_command(retract_lower, \"all\"))"
   ]
  },
  {
   "cell_type": "code",
   "execution_count": null,
   "id": "4aebb2f3",
   "metadata": {},
   "outputs": [],
   "source": [
    "home2 =  [-1.5, 0, 1.2, -2.0, 0.0, 2, 0.0]\n",
    "first = [-1.2, -0.3, 1.2, -1, 0.0, -0.6, 0.0]\n",
    "second = [-1.2, -0.3, 1.2, -1.3, 1.7, 0, 0.0]\n",
    "third = [-1.2, -0.5, 1.30, -1.3, 1.7, 0, 0.0]\n",
    "fourth = [-1.2, -0.5, 1.31, -1.3, 1.7, 0, 0.2]\n",
    "fifth = [-1.2, -0.2, 1.2, -1.3, 1.7, 0, 0.2]\n",
    "sixth = [-1.2, -0.2, 0, -1.3, 1.7, 0, 0.2]\n",
    "seventh = [-0.2, -0.2, 0, -1.3, 0, 0, 0.2]\n",
    "eighth2 = [-0.2, -0.5, 1.31, -1.3, 1.7, 0, 0.2]\n",
    "nineth = [-0.2, -0.3, 1.2, -1, 0.0, -0.6, 0.0]\n"
   ]
  },
  {
   "cell_type": "code",
   "execution_count": 184,
   "id": "b195da49",
   "metadata": {},
   "outputs": [],
   "source": [
    "node.joint_group_command.publish(pack.joint_group_command(eighth2, \"all\"))"
   ]
  },
  {
   "cell_type": "code",
   "execution_count": 128,
   "id": "73773d0c",
   "metadata": {},
   "outputs": [],
   "source": [
    "node.joint_group_command.publish(pack.joint_group_command(home2, \"all\"))"
   ]
  },
  {
   "cell_type": "code",
   "execution_count": 147,
   "id": "ccfcf552",
   "metadata": {},
   "outputs": [],
   "source": [
    "node.joint_group_command.publish(pack.joint_group_command(first, \"all\"))"
   ]
  },
  {
   "cell_type": "code",
   "execution_count": 153,
   "id": "c4fbccc5",
   "metadata": {},
   "outputs": [],
   "source": [
    "node.joint_group_command.publish(pack.joint_group_command(second, \"all\"))"
   ]
  },
  {
   "cell_type": "code",
   "execution_count": 165,
   "id": "3b4acfd3",
   "metadata": {},
   "outputs": [],
   "source": [
    "node.joint_group_command.publish(pack.joint_group_command(third, \"all\"))"
   ]
  },
  {
   "cell_type": "code",
   "execution_count": 167,
   "id": "a023d694",
   "metadata": {},
   "outputs": [],
   "source": [
    "node.joint_group_command.publish(pack.joint_group_command(fourth, \"all\"))"
   ]
  },
  {
   "cell_type": "code",
   "execution_count": 168,
   "id": "4b9e4d79",
   "metadata": {},
   "outputs": [],
   "source": [
    "node.joint_group_command.publish(pack.joint_group_command(fifth, \"all\"))"
   ]
  },
  {
   "cell_type": "code",
   "execution_count": 181,
   "id": "c4067ee6",
   "metadata": {},
   "outputs": [],
   "source": [
    "node.joint_group_command.publish(pack.joint_group_command(sixth, \"all\"))"
   ]
  },
  {
   "cell_type": "code",
   "execution_count": 182,
   "id": "45314bee",
   "metadata": {},
   "outputs": [],
   "source": [
    "node.joint_group_command.publish(pack.joint_group_command(seventh, \"all\"))"
   ]
  },
  {
   "cell_type": "code",
   "execution_count": 106,
   "id": "27ca4f74",
   "metadata": {},
   "outputs": [],
   "source": [
    "node.joint_group_command.publish(pack.joint_group_command(eighth2, \"all\"))"
   ]
  },
  {
   "cell_type": "code",
   "execution_count": 107,
   "id": "becb4b3c",
   "metadata": {},
   "outputs": [],
   "source": [
    "node.joint_group_command.publish(pack.joint_group_command(nineth, \"all\"))"
   ]
  },
  {
   "cell_type": "code",
   "execution_count": 108,
   "id": "83505f9d",
   "metadata": {},
   "outputs": [],
   "source": [
    "node.joint_group_command.publish(pack.joint_group_command(home2, \"all\"))"
   ]
  },
  {
   "cell_type": "code",
   "execution_count": 29,
   "id": "f6509e4f",
   "metadata": {},
   "outputs": [
    {
     "name": "stdout",
     "output_type": "stream",
     "text": [
      "[ 1.56602394e+00  1.36353848e-03  5.06213660e-02  2.06167018e+00\n",
      " -5.82912699e-02 -1.39592252e-01 -1.36183406e-01  0.00000000e+00]\n"
     ]
    }
   ],
   "source": [
    "# save the position offset, click this once when the robot is in the zero position\n",
    "# unpack.joint_state(node.state.get())\n",
    "\n",
    "joint_state_data = unpack.joint_state(node.state.get())\n",
    "\n",
    "joint_positions = joint_state_data[2]\n",
    "\n",
    "print(joint_positions)\n",
    "\n"
   ]
  },
  {
   "cell_type": "code",
   "execution_count": 7,
   "id": "65434399",
   "metadata": {},
   "outputs": [],
   "source": [
    "# GRIPPER (velocity mode): single value for Slider 7 velocity (m/s)\n",
    "gripper_vel_open  = [ +0.010 ]   # open slowly\n",
    "gripper_vel_close = [ -0.010 ]   # close slowly\n",
    "node.joint_group_command.publish(pack.joint_group_command(gripper_vel_open, \"gripper\"))"
   ]
  },
  {
   "cell_type": "code",
   "execution_count": 8,
   "id": "df953d1a",
   "metadata": {},
   "outputs": [],
   "source": [
    "# ARM (position mode): 6 values, Revolute 1..6\n",
    "arm_cmd = [-0.30, 0.50, 0.30, -1.00, 0.10, 0.80]\n",
    "node.joint_group_command.publish(pack.joint_group_command(arm_cmd, \"arm\"))\n"
   ]
  },
  {
   "cell_type": "markdown",
   "id": "7e0a44fc",
   "metadata": {},
   "source": [
    "---"
   ]
  },
  {
   "cell_type": "markdown",
   "id": "dd5a9751",
   "metadata": {},
   "source": [
    "# Task Space Control"
   ]
  },
  {
   "cell_type": "code",
   "execution_count": 7,
   "id": "1187b61d",
   "metadata": {},
   "outputs": [],
   "source": [
    "xyz_command = np.array([0.3, 0.4, 0.8])\n",
    "quaternion_command = np.array([1, 0.0, 0.0, 0.0]) # xyz-w\n",
    "gripper = 1.0 # 0.0 close, 1.0 open\n",
    "\n",
    "controller.task_space_command.publish(\n",
    "    pack.task_space_command(\"all\", xyz_command, quaternion_command, gripper))"
   ]
  },
  {
   "cell_type": "markdown",
   "id": "c7feafb1",
   "metadata": {},
   "source": [
    "---\n"
   ]
  },
  {
   "cell_type": "markdown",
   "id": "aa0d1111",
   "metadata": {},
   "source": [
    "# Joint States"
   ]
  },
  {
   "cell_type": "code",
   "execution_count": 287,
   "id": "5dde03a7",
   "metadata": {},
   "outputs": [
    {
     "data": {
      "text/plain": [
       "({'seq': 0, 'stamp': {'sec': 0, 'nsec': 0}, 'frame_id': ''},\n",
       " ['Revolute 1',\n",
       "  'Revolute 2',\n",
       "  'Revolute 3',\n",
       "  'Revolute 4',\n",
       "  'Revolute 5',\n",
       "  'Revolute 6',\n",
       "  'Slider 7'],\n",
       " array([0.99998503, 0.99998503, 0.        , 0.        , 0.        ,\n",
       "        0.        , 0.        ]),\n",
       " array([0., 0., 0., 0., 0., 0., 0.]),\n",
       " array([0., 0., 0., 0., 0., 0., 0.]))"
      ]
     },
     "execution_count": 287,
     "metadata": {},
     "output_type": "execute_result"
    }
   ],
   "source": [
    "unpack.joint_state(node.state.get())\n"
   ]
  },
  {
   "cell_type": "markdown",
   "id": "b2392093",
   "metadata": {},
   "source": [
    "# PYBULLET TESTING"
   ]
  },
  {
   "cell_type": "code",
   "execution_count": 37,
   "id": "4b976f75",
   "metadata": {},
   "outputs": [
    {
     "name": "stdout",
     "output_type": "stream",
     "text": [
      "0 Link1\n",
      "1 link2\n",
      "2 link3\n",
      "3 link4\n",
      "4 link5\n",
      "5 Hand\n",
      "6 finger1\n",
      "7 finger2\n"
     ]
    }
   ],
   "source": [
    "import pybullet as p, pybullet_data as pd, math\n",
    "\n",
    "p.connect(p.DIRECT)  # use GUI to debug\n",
    "p.setGravity(0, 0, -9.81)\n",
    "\n",
    "robot = p.loadURDF(\"/home/sarthakdas/Ark/ark_bot/arkbot/ark_bot.urdf\", [0, 0, 0], useFixedBase=True)\n",
    "\n",
    "# print(\"Joints in robot:\")\n",
    "for j in range(p.getNumJoints(robot)):\n",
    "    print(j, p.getJointInfo(robot, j)[12].decode())\n",
    "\n",
    "# # Pick correct end effector index after checking printout\n",
    "ee = 5\n",
    "\n"
   ]
  },
  {
   "cell_type": "code",
   "execution_count": 69,
   "id": "37428e66",
   "metadata": {},
   "outputs": [
    {
     "name": "stdout",
     "output_type": "stream",
     "text": [
      "IK solution: (-0.2912198028348503, -0.3599159317112861, 1.2967921417815351, -1.1937036501084985, -0.26464458133013735, -0.29705273160339246, 0.0, 0.0)\n"
     ]
    }
   ],
   "source": [
    "target_pos = [-0.25, -0.2, 0.27]\n",
    "target_orn = p.getQuaternionFromEuler([0, math.pi, 0.0])\n",
    "\n",
    "q = p.calculateInverseKinematics(robot, ee, target_pos, target_orn)\n",
    "\n",
    "print(\"IK solution:\", q[:p.getNumJoints(robot)])\n",
    "\n",
    "node.joint_group_command.publish(pack.joint_group_command(q, \"all\"))\n",
    "node.joint_group_command_real.publish(pack.joint_group_command(q, \"all\"))\n"
   ]
  },
  {
   "cell_type": "code",
   "execution_count": 35,
   "id": "70e5f8f4",
   "metadata": {},
   "outputs": [
    {
     "name": "stdout",
     "output_type": "stream",
     "text": [
      "IK solution: (-0.2912198028348503, -0.3599159317112861, 1.2967921417815351, -1.1937036501084985, -0.26464458133013735, -0.29705273160339246, 0.0, 0.0)\n"
     ]
    }
   ],
   "source": [
    "target_pos = [-0.25, -0.2, 0.27]\n",
    "target_orn = p.getQuaternionFromEuler([0.0, math.pi, 0.0])\n",
    "target_orn2 = p.getQuaternionFromEuler([0.0, 0.0, 0.0])\n",
    "\n",
    "q = p.calculateInverseKinematics(robot, ee, target_pos, target_orn)\n",
    "\n",
    "print(\"IK solution:\", q[:p.getNumJoints(robot)])\n",
    "\n",
    "node.joint_group_command.publish(pack.joint_group_command(q, \"all\"))\n",
    "node.joint_group_command_real.publish(pack.joint_group_command(q, \"all\"))\n"
   ]
  },
  {
   "cell_type": "code",
   "execution_count": 36,
   "id": "09e13193",
   "metadata": {},
   "outputs": [],
   "source": [
    "\n",
    "p.disconnect()"
   ]
  },
  {
   "cell_type": "code",
   "execution_count": 55,
   "id": "065be18b",
   "metadata": {},
   "outputs": [],
   "source": [
    "# ---- one-time IK config (put this once, after loading the robot) ----\n",
    "import math\n",
    "\n",
    "nJ = p.getNumJoints(robot)\n",
    "lower, upper, ranges = [], [], []\n",
    "for j in range(nJ):\n",
    "    ji = p.getJointInfo(robot, j)\n",
    "    ll, ul = ji[8], ji[9]\n",
    "    lower.append(ll)\n",
    "    upper.append(ul)\n",
    "    # handle continuous/no-limit joints: fall back to 2*pi range\n",
    "    jr = (ul - ll) if (ul > ll and abs(ul - ll) < 1e6) else 2*math.pi\n",
    "    ranges.append(jr)\n",
    "damping = [0.05] * nJ  # tune if needed\n",
    "\n",
    "_prev_q = None\n",
    "def ik_smooth(target_pos, target_orn):\n",
    "    global _prev_q\n",
    "    rest = _prev_q if _prev_q is not None else [0.0] * nJ\n",
    "    q_full = p.calculateInverseKinematics(\n",
    "        robot, ee, target_pos, target_orn,\n",
    "        lowerLimits=lower, upperLimits=upper,\n",
    "        jointRanges=ranges, restPoses=rest,\n",
    "        jointDamping=damping, residualThreshold=1e-4, maxNumIterations=100\n",
    "    )\n",
    "    q = list(q_full[:nJ])\n",
    "    _prev_q = q  # cache for next call\n",
    "    return q\n"
   ]
  },
  {
   "cell_type": "code",
   "execution_count": 68,
   "id": "c8753b0a",
   "metadata": {},
   "outputs": [],
   "source": [
    "import math, time\n",
    "\n",
    "# =====================\n",
    "# CONFIG\n",
    "# =====================\n",
    "REPEAT_COUNT = 3        # 🔁 Number of figure-eight loops\n",
    "DURATION_PER_LOOP = 6.0 # seconds per loop\n",
    "STEPS_PER_LOOP = 200    # number of IK waypoints per loop\n",
    "\n",
    "# ---- one-time IK setup ----\n",
    "nJ = p.getNumJoints(robot)\n",
    "lower, upper, ranges = [], [], []\n",
    "for j in range(nJ):\n",
    "    ji = p.getJointInfo(robot, j)\n",
    "    ll, ul = ji[8], ji[9]\n",
    "    lower.append(ll)\n",
    "    upper.append(ul)\n",
    "    jr = (ul - ll) if (ul > ll and abs(ul - ll) < 1e6) else 2*math.pi\n",
    "    ranges.append(jr)\n",
    "damping = [0.05] * nJ  # light damping\n",
    "\n",
    "_prev_q = None\n",
    "def ik_smooth(target_pos, target_orn):\n",
    "    global _prev_q\n",
    "    rest = _prev_q if _prev_q is not None else [0.0] * nJ\n",
    "    q_full = p.calculateInverseKinematics(\n",
    "        robot, ee, target_pos, target_orn,\n",
    "        lowerLimits=lower, upperLimits=upper,\n",
    "        jointRanges=ranges, restPoses=rest,\n",
    "        jointDamping=damping, residualThreshold=1e-4, maxNumIterations=100\n",
    "    )\n",
    "    q = list(q_full[:nJ])\n",
    "    _prev_q = q\n",
    "    return q\n",
    "\n",
    "def publish(q):\n",
    "    node.joint_group_command.publish(pack.joint_group_command(q, \"all\"))\n",
    "    # node.joint_group_command_real.publish(pack.joint_group_command(q, \"all\"))\n",
    "\n",
    "# ---- figure-eight generator (flat on the floor: constant Z) ----\n",
    "def draw_figure_eight(center_pos, size_x=0.10, size_y=0.06,\n",
    "                      euler_orn=(0.0, math.pi, 0.0)):\n",
    "    cx, cy, cz = center_pos\n",
    "    quat = p.getQuaternionFromEuler(euler_orn)\n",
    "    dt = DURATION_PER_LOOP / STEPS_PER_LOOP\n",
    "\n",
    "    for _ in range(REPEAT_COUNT):          # repeat full loops\n",
    "        for k in range(STEPS_PER_LOOP + 1):\n",
    "            t = 2.0 * math.pi * (k / STEPS_PER_LOOP)\n",
    "            # Gerono lemniscate in X–Y, Z fixed\n",
    "            x = cx + size_x * math.sin(t)\n",
    "            y = cy + size_y * math.sin(t) * math.cos(t)\n",
    "            z = cz  # <-- constant height (floor drawing)\n",
    "            pos = [x, y, z]\n",
    "            q = ik_smooth(pos, quat)\n",
    "            publish(q)\n",
    "            time.sleep(dt)\n",
    "\n",
    "\n",
    "# ----------------- run it -----------------\n",
    "center = [-0.25, -0.2, 0.27]  # set center[2] to your floor height\n",
    "draw_figure_eight(center_pos=center,\n",
    "                  size_x=0.10,\n",
    "                  size_y=0.06,\n",
    "                  euler_orn=(0.0, math.pi, 0.0))\n",
    "\n"
   ]
  },
  {
   "cell_type": "code",
   "execution_count": 71,
   "id": "027c6ae5",
   "metadata": {},
   "outputs": [
    {
     "ename": "KeyboardInterrupt",
     "evalue": "",
     "output_type": "error",
     "traceback": [
      "\u001b[0;31m---------------------------------------------------------------------------\u001b[0m",
      "\u001b[0;31mKeyboardInterrupt\u001b[0m                         Traceback (most recent call last)",
      "Cell \u001b[0;32mIn[71], line 64\u001b[0m\n\u001b[1;32m     62\u001b[0m \u001b[38;5;66;03m# ----------------- run it -----------------\u001b[39;00m\n\u001b[1;32m     63\u001b[0m center \u001b[38;5;241m=\u001b[39m [\u001b[38;5;241m-\u001b[39m\u001b[38;5;241m0.25\u001b[39m, \u001b[38;5;241m-\u001b[39m\u001b[38;5;241m0.2\u001b[39m, \u001b[38;5;241m0.27\u001b[39m]  \u001b[38;5;66;03m# set Z to just above your floor\u001b[39;00m\n\u001b[0;32m---> 64\u001b[0m \u001b[43mdraw_circle\u001b[49m\u001b[43m(\u001b[49m\u001b[43mcenter_pos\u001b[49m\u001b[38;5;241;43m=\u001b[39;49m\u001b[43mcenter\u001b[49m\u001b[43m,\u001b[49m\n\u001b[1;32m     65\u001b[0m \u001b[43m            \u001b[49m\u001b[43mradius\u001b[49m\u001b[38;5;241;43m=\u001b[39;49m\u001b[38;5;241;43m0.10\u001b[39;49m\u001b[43m,\u001b[49m\n\u001b[1;32m     66\u001b[0m \u001b[43m            \u001b[49m\u001b[43meuler_orn\u001b[49m\u001b[38;5;241;43m=\u001b[39;49m\u001b[43m(\u001b[49m\u001b[38;5;241;43m0.0\u001b[39;49m\u001b[43m,\u001b[49m\u001b[43m \u001b[49m\u001b[43mmath\u001b[49m\u001b[38;5;241;43m.\u001b[39;49m\u001b[43mpi\u001b[49m\u001b[43m,\u001b[49m\u001b[43m \u001b[49m\u001b[38;5;241;43m0.0\u001b[39;49m\u001b[43m)\u001b[49m\u001b[43m)\u001b[49m\n",
      "Cell \u001b[0;32mIn[71], line 60\u001b[0m, in \u001b[0;36mdraw_circle\u001b[0;34m(center_pos, radius, euler_orn)\u001b[0m\n\u001b[1;32m     58\u001b[0m q \u001b[38;5;241m=\u001b[39m ik_smooth(pos, quat)\n\u001b[1;32m     59\u001b[0m publish(q)\n\u001b[0;32m---> 60\u001b[0m \u001b[43mtime\u001b[49m\u001b[38;5;241;43m.\u001b[39;49m\u001b[43msleep\u001b[49m\u001b[43m(\u001b[49m\u001b[43mdt\u001b[49m\u001b[43m)\u001b[49m\n",
      "\u001b[0;31mKeyboardInterrupt\u001b[0m: "
     ]
    }
   ],
   "source": [
    "import math, time\n",
    "\n",
    "# =====================\n",
    "# CONFIG\n",
    "# =====================\n",
    "REPEAT_COUNT = 3        # 🔁 Number of circles\n",
    "DURATION_PER_LOOP = 6.0 # seconds per circle\n",
    "STEPS_PER_LOOP = 200    # number of IK waypoints per circle\n",
    "\n",
    "# ---- one-time IK setup ----\n",
    "nJ = p.getNumJoints(robot)\n",
    "lower, upper, ranges = [], [], []\n",
    "for j in range(nJ):\n",
    "    ji = p.getJointInfo(robot, j)\n",
    "    ll, ul = ji[8], ji[9]\n",
    "    lower.append(ll)\n",
    "    upper.append(ul)\n",
    "    jr = (ul - ll) if (ul > ll and abs(ul - ll) < 1e6) else 2*math.pi\n",
    "    ranges.append(jr)\n",
    "damping = [0.05] * nJ  # light damping\n",
    "\n",
    "_prev_q = None\n",
    "def ik_smooth(target_pos, target_orn):\n",
    "    \"\"\"Inverse kinematics with rest pose seeding for continuity\"\"\"\n",
    "    global _prev_q\n",
    "    rest = _prev_q if _prev_q is not None else [0.0] * nJ\n",
    "    q_full = p.calculateInverseKinematics(\n",
    "        robot, ee, target_pos, target_orn,\n",
    "        lowerLimits=lower, upperLimits=upper,\n",
    "        jointRanges=ranges, restPoses=rest,\n",
    "        jointDamping=damping,\n",
    "        residualThreshold=1e-4, maxNumIterations=100\n",
    "    )\n",
    "    q = list(q_full[:nJ])\n",
    "    _prev_q = q\n",
    "    return q\n",
    "\n",
    "def publish(q):\n",
    "    node.joint_group_command.publish(pack.joint_group_command(q, \"all\"))\n",
    "    node.joint_group_command_real.publish(pack.joint_group_command(q, \"all\"))\n",
    "\n",
    "# ---- circle generator (flat on floor: constant Z) ----\n",
    "def draw_circle(center_pos, radius=0.10, euler_orn=(0.0, math.pi, 0.0)):\n",
    "    \"\"\"\n",
    "    Draw a circle parallel to the floor (X–Y plane) at constant Z.\n",
    "    \"\"\"\n",
    "    cx, cy, cz = center_pos\n",
    "    quat = p.getQuaternionFromEuler(euler_orn)\n",
    "    dt = DURATION_PER_LOOP / STEPS_PER_LOOP\n",
    "\n",
    "    for _ in range(REPEAT_COUNT):  # repeat full loops\n",
    "        for k in range(STEPS_PER_LOOP + 1):\n",
    "            theta = 2.0 * math.pi * (k / STEPS_PER_LOOP)\n",
    "            x = cx + radius * math.cos(theta)\n",
    "            y = cy + radius * math.sin(theta)\n",
    "            z = cz  # constant height\n",
    "            pos = [x, y, z]\n",
    "            q = ik_smooth(pos, quat)\n",
    "            publish(q)\n",
    "            time.sleep(dt)\n",
    "\n",
    "# ----------------- run it -----------------\n",
    "center = [-0.25, -0.2, 0.27]  # set Z to just above your floor\n",
    "draw_circle(center_pos=center,\n",
    "            radius=0.10,\n",
    "            euler_orn=(0.0, math.pi, 0.0))\n"
   ]
  },
  {
   "cell_type": "code",
   "execution_count": 42,
   "id": "f590d210",
   "metadata": {},
   "outputs": [
    {
     "name": "stdout",
     "output_type": "stream",
     "text": [
      "IK solution: [-0.1270004947175909, -0.3096205591543132, 1.4263199082610953, -1.4330551546917114, -0.10332860407380073, 0.03852493926037219, 0.0, 0.0]\n"
     ]
    }
   ],
   "source": [
    "# --- waypoint 1 ---\n",
    "target_pos = [-0.2, -0.2, 0.25]\n",
    "target_orn = p.getQuaternionFromEuler([0, math.pi, 0.0])\n",
    "\n",
    "q = ik_smooth(target_pos, target_orn)\n",
    "print(\"IK solution:\", q[:p.getNumJoints(robot)])\n",
    "node.joint_group_command.publish(pack.joint_group_command(q, \"all\"))\n",
    "node.joint_group_command_real.publish(pack.joint_group_command(q, \"all\"))\n"
   ]
  },
  {
   "cell_type": "code",
   "execution_count": 43,
   "id": "c8a51705",
   "metadata": {},
   "outputs": [
    {
     "name": "stdout",
     "output_type": "stream",
     "text": [
      "IK solution: [-0.09044209546730764, -0.41881192973174103, 1.179681764525028, -1.5390641717846965, -0.062266860537619984, -0.004544190400353901, 0.0, 0.0]\n"
     ]
    }
   ],
   "source": [
    "\n",
    "# --- waypoint 2 ---\n",
    "target_pos = [-0.25, -0.2, 0.27]\n",
    "target_orn = p.getQuaternionFromEuler([0.0, math.pi, 0.0])  # (target_orn2 unused here)\n",
    "\n",
    "q = ik_smooth(target_pos, target_orn)\n",
    "print(\"IK solution:\", q[:p.getNumJoints(robot)])\n",
    "node.joint_group_command.publish(pack.joint_group_command(q, \"all\"))\n",
    "node.joint_group_command_real.publish(pack.joint_group_command(q, \"all\"))\n"
   ]
  },
  {
   "cell_type": "code",
   "execution_count": null,
   "id": "dc65d894",
   "metadata": {},
   "outputs": [],
   "source": [
    "p.disconnect()"
   ]
  }
 ],
 "metadata": {
  "kernelspec": {
   "display_name": "ark_env",
   "language": "python",
   "name": "python3"
  },
  "language_info": {
   "codemirror_mode": {
    "name": "ipython",
    "version": 3
   },
   "file_extension": ".py",
   "mimetype": "text/x-python",
   "name": "python",
   "nbconvert_exporter": "python",
   "pygments_lexer": "ipython3",
   "version": "3.10.18"
  }
 },
 "nbformat": 4,
 "nbformat_minor": 5
}
