{
 "cells": [
  {
   "cell_type": "markdown",
   "id": "ced5fc05",
   "metadata": {},
   "source": [
    "#### Note:\n",
    "\n",
    "Make sure that you have these two scripts running at the same time while running this\n",
    "\n",
    "ark regsitry start\n",
    "\n",
    "python sim_node.py"
   ]
  },
  {
   "cell_type": "code",
   "execution_count": 2,
   "id": "ad5f4a86",
   "metadata": {},
   "outputs": [
    {
     "name": "stderr",
     "output_type": "stream",
     "text": [
      "\u001b[93m[WARNING] [13:24:24.502620] - No global configuration provided. Using default system configuration.\u001b[0m\n",
      "\u001b[96m[INFO] [13:24:24.505008] - Service: Successfully registered '__DEFAULT_SERVICE/GetInfo/arkbot_controller_c1d7f3ed-a49f-47a2-bc83-a1e6004909d9' with registry.\u001b[0m\n",
      "\u001b[96m[INFO] [13:24:24.507008] - Service: Successfully registered '__DEFAULT_SERVICE/SuspendNode/arkbot_controller_c1d7f3ed-a49f-47a2-bc83-a1e6004909d9' with registry.\u001b[0m\n",
      "\u001b[96m[INFO] [13:24:24.508681] - Service: Successfully registered '__DEFAULT_SERVICE/RestartNode/arkbot_controller_c1d7f3ed-a49f-47a2-bc83-a1e6004909d9' with registry.\u001b[0m\n",
      "\u001b[91m[ERROR] [13:24:24.509716] - Couldn't load config for other 'arkbot_controller'\u001b[0m\n",
      "\u001b[92m\u001b[1m[OK] [13:24:24.510595] - setup publisher arkbot/joint_group_command[joint_group_command_t]\u001b[0m\n",
      "\u001b[92m\u001b[1m[OK] [13:24:24.511187] - setup publisher arkbot/cartesian_command[task_space_command_t]\u001b[0m\n",
      "\u001b[92m\u001b[1m[OK] [13:24:24.511870] - subscribed to arkbot/joint_states[joint_state_t]\u001b[0m\n"
     ]
    },
    {
     "name": "stdout",
     "output_type": "stream",
     "text": [
      "None\n"
     ]
    },
    {
     "name": "stdout",
     "output_type": "stream",
     "text": [
      "Get info service called\n",
      "Get info service called\n",
      "Get info service called\n"
     ]
    }
   ],
   "source": [
    "import time\n",
    "import numpy as np\n",
    "from arktypes import joint_group_command_t, task_space_command_t, joint_state_t\n",
    "from arktypes.utils import pack\n",
    "from ark.client.comm_infrastructure.instance_node import InstanceNode\n",
    "\n",
    "ROBOT_NAME = \"arkbot\"\n",
    "SIM = False\n",
    "\n",
    "class HarkControllerNode(InstanceNode):\n",
    "    def __init__(self):\n",
    "        super().__init__(\"arkbot_controller\")\n",
    "        suffix = \"/sim\" if SIM else \"\"\n",
    "        base = f\"{ROBOT_NAME}\"\n",
    "\n",
    "        # pubs\n",
    "        self.joint_group_command = self.create_publisher(f\"{base}/joint_group_command{suffix}\", joint_group_command_t)\n",
    "        self.task_space_command  = self.create_publisher(f\"{base}/cartesian_command{suffix}\", task_space_command_t)\n",
    "\n",
    "        # subs\n",
    "        self.state = self.create_listener(f\"{base}/joint_states{suffix}\", joint_state_t)\n",
    "\n",
    "node = HarkControllerNode()"
   ]
  },
  {
   "cell_type": "markdown",
   "id": "7142c226",
   "metadata": {},
   "source": [
    "---"
   ]
  },
  {
   "cell_type": "markdown",
   "id": "e9f1afe2",
   "metadata": {},
   "source": [
    "# Joint Group Control"
   ]
  },
  {
   "cell_type": "code",
   "execution_count": null,
   "id": "d86ec1f1",
   "metadata": {},
   "outputs": [],
   "source": [
    "all_cmd = [\n",
    "    1.30,   # Revolute 1 (continuous)\n",
    "     0.00,   # Revolute 2 (rad)\n",
    "     0.30,   # Revolute 3 (rad)\n",
    "    -1.00,   # Revolute 4 (rad)\n",
    "     0.10,   # Revolute 5 (continuous)\n",
    "     0.80,   # Revolute 6 (rad)\n",
    "     0.020   # Slider 7 position in meters (range 0.0 .. 0.0425)\n",
    "]\n",
    "node.joint_group_command.publish(pack.joint_group_command(all_cmd, \"all\"))"
   ]
  },
  {
   "cell_type": "code",
   "execution_count": 10,
   "id": "65434399",
   "metadata": {},
   "outputs": [],
   "source": [
    "# GRIPPER (velocity mode): single value for Slider 7 velocity (m/s)\n",
    "gripper_vel_open  = [ +0.010 ]   # open slowly\n",
    "gripper_vel_close = [ -0.010 ]   # close slowly\n",
    "node.joint_group_command.publish(pack.joint_group_command(gripper_vel_open, \"gripper\"))"
   ]
  },
  {
   "cell_type": "code",
   "execution_count": 7,
   "id": "df953d1a",
   "metadata": {},
   "outputs": [],
   "source": [
    "# ARM (position mode): 6 values, Revolute 1..6\n",
    "arm_cmd = [-0.30, 0.50, 0.30, -1.00, 0.10, 0.80]\n",
    "node.joint_group_command.publish(pack.joint_group_command(arm_cmd, \"arm\"))\n"
   ]
  },
  {
   "cell_type": "markdown",
   "id": "7e0a44fc",
   "metadata": {},
   "source": [
    "---"
   ]
  },
  {
   "cell_type": "markdown",
   "id": "dd5a9751",
   "metadata": {},
   "source": [
    "# Task Space Control"
   ]
  },
  {
   "cell_type": "code",
   "execution_count": 7,
   "id": "1187b61d",
   "metadata": {},
   "outputs": [],
   "source": [
    "xyz_command = np.array([0.3, 0.4, 0.8])\n",
    "quaternion_command = np.array([1, 0.0, 0.0, 0.0]) # xyz-w\n",
    "gripper = 1.0 # 0.0 close, 1.0 open\n",
    "\n",
    "controller.task_space_command.publish(\n",
    "    pack.task_space_command(\"all\", xyz_command, quaternion_command, gripper))"
   ]
  },
  {
   "cell_type": "markdown",
   "id": "c7feafb1",
   "metadata": {},
   "source": [
    "---\n"
   ]
  },
  {
   "cell_type": "markdown",
   "id": "aa0d1111",
   "metadata": {},
   "source": [
    "# Joint States"
   ]
  },
  {
   "cell_type": "code",
   "execution_count": 26,
   "id": "5dde03a7",
   "metadata": {},
   "outputs": [
    {
     "data": {
      "text/plain": [
       "({'seq': 0, 'stamp': {'sec': 0, 'nsec': 0}, 'frame_id': ''},\n",
       " ['panda_joint1',\n",
       "  'panda_joint2',\n",
       "  'panda_joint3',\n",
       "  'panda_joint4',\n",
       "  'panda_joint5',\n",
       "  'panda_joint6',\n",
       "  'panda_joint7',\n",
       "  'panda_finger_joint1',\n",
       "  'panda_finger_joint2'],\n",
       " array([ 3.32046132e-01, -2.17307877e-01,  5.52577220e-01, -2.11408249e+00,\n",
       "         1.20972593e-01,  1.92591533e+00,  8.31678377e-01, -1.00911550e-21,\n",
       "         3.80750550e-08]),\n",
       " array([0., 0., 0., 0., 0., 0., 0., 0., 0.]),\n",
       " array([0., 0., 0., 0., 0., 0., 0., 0., 0.]))"
      ]
     },
     "execution_count": 26,
     "metadata": {},
     "output_type": "execute_result"
    }
   ],
   "source": [
    "unpack.joint_state(controller.state.get())"
   ]
  }
 ],
 "metadata": {
  "kernelspec": {
   "display_name": "ark_env",
   "language": "python",
   "name": "python3"
  },
  "language_info": {
   "codemirror_mode": {
    "name": "ipython",
    "version": 3
   },
   "file_extension": ".py",
   "mimetype": "text/x-python",
   "name": "python",
   "nbconvert_exporter": "python",
   "pygments_lexer": "ipython3",
   "version": "3.10.18"
  }
 },
 "nbformat": 4,
 "nbformat_minor": 5
}
