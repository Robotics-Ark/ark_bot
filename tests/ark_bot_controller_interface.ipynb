{
 "cells": [
  {
   "cell_type": "markdown",
   "id": "ced5fc05",
   "metadata": {},
   "source": [
    "#### Note:\n",
    "\n",
    "Make sure that you have these two scripts running at the same time while running this\n",
    "\n",
    "ark regsitry start\n",
    "\n",
    "python sim_node.py"
   ]
  },
  {
   "cell_type": "code",
   "execution_count": 588,
   "id": "ad5f4a86",
   "metadata": {},
   "outputs": [
    {
     "name": "stderr",
     "output_type": "stream",
     "text": [
      "\u001b[93m[WARNING] [10:58:21.309584] - No global configuration provided. Using default system configuration.\u001b[0m\n",
      "\u001b[96m[INFO] [10:58:21.373143] - Service: Successfully registered '__DEFAULT_SERVICE/GetInfo/arkbot_controller_9df39025-331c-4d31-98ee-75a0c2423d51' with registry.\u001b[0m\n",
      "\u001b[96m[INFO] [10:58:21.376438] - Service: Successfully registered '__DEFAULT_SERVICE/SuspendNode/arkbot_controller_9df39025-331c-4d31-98ee-75a0c2423d51' with registry.\u001b[0m\n",
      "\u001b[96m[INFO] [10:58:21.380106] - Service: Successfully registered '__DEFAULT_SERVICE/RestartNode/arkbot_controller_9df39025-331c-4d31-98ee-75a0c2423d51' with registry.\u001b[0m\n",
      "\u001b[91m[ERROR] [10:58:21.381417] - Couldn't load config for other 'arkbot_controller'\u001b[0m\n",
      "\u001b[92m\u001b[1m[OK] [10:58:21.382499] - setup publisher arkbot/joint_group_command[joint_group_command_t]\u001b[0m\n",
      "\u001b[92m\u001b[1m[OK] [10:58:21.383105] - setup publisher arkbot/cartesian_command[task_space_command_t]\u001b[0m\n",
      "\u001b[92m\u001b[1m[OK] [10:58:21.383858] - subscribed to arkbot/joint_states[joint_state_t]\u001b[0m\n"
     ]
    },
    {
     "name": "stdout",
     "output_type": "stream",
     "text": [
      "None\n"
     ]
    }
   ],
   "source": [
    "import time\n",
    "import numpy as np\n",
    "from arktypes import joint_group_command_t, task_space_command_t, joint_state_t\n",
    "from arktypes.utils import pack, unpack\n",
    "from ark.client.comm_infrastructure.instance_node import InstanceNode\n",
    "\n",
    "ROBOT_NAME = \"arkbot\"\n",
    "SIM = False\n",
    "\n",
    "class HarkControllerNode(InstanceNode):\n",
    "    def __init__(self):\n",
    "        super().__init__(\"arkbot_controller\")\n",
    "        suffix = \"/sim\" if SIM else \"\"\n",
    "        base = f\"{ROBOT_NAME}\"\n",
    "\n",
    "        # pubs\n",
    "        self.joint_group_command = self.create_publisher(f\"{base}/joint_group_command{suffix}\", joint_group_command_t)\n",
    "        self.task_space_command  = self.create_publisher(f\"{base}/cartesian_command{suffix}\", task_space_command_t)\n",
    "\n",
    "        # subs\n",
    "        self.state = self.create_listener(f\"{base}/joint_states{suffix}\", joint_state_t)\n",
    "\n",
    "node = HarkControllerNode()"
   ]
  },
  {
   "cell_type": "markdown",
   "id": "7142c226",
   "metadata": {},
   "source": [
    "---"
   ]
  },
  {
   "cell_type": "markdown",
   "id": "e9f1afe2",
   "metadata": {},
   "source": [
    "# Joint Group Control"
   ]
  },
  {
   "cell_type": "code",
   "execution_count": 288,
   "id": "d86ec1f1",
   "metadata": {},
   "outputs": [],
   "source": [
    "all_cmd = [\n",
    "    0.0,   # Revolute 1 (continuous)\n",
    "     0.0,   # Revolute 2 (rad)\n",
    "     0.0,   # Revolute 4 (rad)\n",
    "     0.00,   # Revolute 5 (continuous)\n",
    "     0.00,   # Revolute 6 (rad)\n",
    "     0.000   # Slider 7 position in meters (range 0.0 .. 0.0425)\n",
    "]\n",
    "node.joint_group_command.publish(pack.joint_group_command(all_cmd, \"all\"))"
   ]
  },
  {
   "cell_type": "code",
   "execution_count": 577,
   "id": "8a3d08a3",
   "metadata": {},
   "outputs": [],
   "source": [
    "home =  [0.0, 0.0, 0.0, 0.00, 0.0, 0.0, 0.0]\n",
    "approach_upper = [0.4, 0, -1.2, 2.0, 0.0, 2.2, 0.0]\n",
    "contact_upper = [0.4, 0.3, -1.2, 2.0, 0.0, 2.2, 0.0]\n",
    "push_upper = [0.4, 0.3, -1.2, 1.35, 0.0, 1.4, 0.0]\n",
    "lower_upper = [0.4, 0.3, -1.2, 2.0, 0.0, 2.2, 0.0]\n",
    "approach_lower = [0.4, 0.3, -1.8, 2.0, 0.0, 2.2, 0.0]\n",
    "contact_lower = [0.4, 0.4, -1.8, 1.5, 0.0, 2.2, 0.0]\n",
    "push_lower = [0.4, 0.4, -1.8, 0.6, 0.0, 1.5, 0.0]\n",
    "retract_lower = [0.4, -0.3, -1.8, 2.0, 0.0, 2.2, 0.0]\n"
   ]
  },
  {
   "cell_type": "code",
   "execution_count": 583,
   "id": "57472401",
   "metadata": {},
   "outputs": [],
   "source": [
    "node.joint_group_command.publish(pack.joint_group_command(home, \"all\"))"
   ]
  },
  {
   "cell_type": "code",
   "execution_count": 584,
   "id": "1e6e191f",
   "metadata": {},
   "outputs": [],
   "source": [
    "node.joint_group_command.publish(pack.joint_group_command(approach_upper, \"all\"))"
   ]
  },
  {
   "cell_type": "code",
   "execution_count": 580,
   "id": "f4873cd2",
   "metadata": {},
   "outputs": [],
   "source": [
    "node.joint_group_command.publish(pack.joint_group_command(contact_upper, \"all\"))"
   ]
  },
  {
   "cell_type": "code",
   "execution_count": 565,
   "id": "7fcfe217",
   "metadata": {},
   "outputs": [],
   "source": [
    "node.joint_group_command.publish(pack.joint_group_command(push_upper, \"all\"))"
   ]
  },
  {
   "cell_type": "code",
   "execution_count": 567,
   "id": "f9fdbb2d",
   "metadata": {},
   "outputs": [],
   "source": [
    "node.joint_group_command.publish(pack.joint_group_command(lower_upper, \"all\"))"
   ]
  },
  {
   "cell_type": "code",
   "execution_count": 568,
   "id": "98e1d790",
   "metadata": {},
   "outputs": [],
   "source": [
    "node.joint_group_command.publish(pack.joint_group_command(approach_lower, \"all\"))"
   ]
  },
  {
   "cell_type": "code",
   "execution_count": 569,
   "id": "b7420504",
   "metadata": {},
   "outputs": [],
   "source": [
    "node.joint_group_command.publish(pack.joint_group_command(contact_lower, \"all\"))"
   ]
  },
  {
   "cell_type": "code",
   "execution_count": 573,
   "id": "c06c135e",
   "metadata": {},
   "outputs": [],
   "source": [
    "node.joint_group_command.publish(pack.joint_group_command(push_lower, \"all\"))"
   ]
  },
  {
   "cell_type": "code",
   "execution_count": 574,
   "id": "95aea9a8",
   "metadata": {},
   "outputs": [],
   "source": [
    "node.joint_group_command.publish(pack.joint_group_command(retract_lower, \"all\"))"
   ]
  },
  {
   "cell_type": "code",
   "execution_count": 554,
   "id": "939db189",
   "metadata": {},
   "outputs": [],
   "source": [
    "node.joint_group_command.publish(pack.joint_group_command(home, \"all\"))"
   ]
  },
  {
   "cell_type": "code",
   "execution_count": null,
   "id": "f6509e4f",
   "metadata": {},
   "outputs": [
    {
     "name": "stdout",
     "output_type": "stream",
     "text": [
      "[ 0.        -2.7925268 -3.4906585  0.         0.         0.\n",
      "  0.       ]\n"
     ]
    }
   ],
   "source": [
    "# save the position offset, click this once when the robot is in the zero position\n",
    "# unpack.joint_state(node.state.get())\n",
    "\n",
    "joint_state_data = unpack.joint_state(node.state.get())\n",
    "\n",
    "joint_positions = joint_state_data[2]\n",
    "\n",
    "print(joint_positions)\n",
    "\n"
   ]
  },
  {
   "cell_type": "code",
   "execution_count": 7,
   "id": "65434399",
   "metadata": {},
   "outputs": [],
   "source": [
    "# GRIPPER (velocity mode): single value for Slider 7 velocity (m/s)\n",
    "gripper_vel_open  = [ +0.010 ]   # open slowly\n",
    "gripper_vel_close = [ -0.010 ]   # close slowly\n",
    "node.joint_group_command.publish(pack.joint_group_command(gripper_vel_open, \"gripper\"))"
   ]
  },
  {
   "cell_type": "code",
   "execution_count": 8,
   "id": "df953d1a",
   "metadata": {},
   "outputs": [],
   "source": [
    "# ARM (position mode): 6 values, Revolute 1..6\n",
    "arm_cmd = [-0.30, 0.50, 0.30, -1.00, 0.10, 0.80]\n",
    "node.joint_group_command.publish(pack.joint_group_command(arm_cmd, \"arm\"))\n"
   ]
  },
  {
   "cell_type": "markdown",
   "id": "7e0a44fc",
   "metadata": {},
   "source": [
    "---"
   ]
  },
  {
   "cell_type": "markdown",
   "id": "dd5a9751",
   "metadata": {},
   "source": [
    "# Task Space Control"
   ]
  },
  {
   "cell_type": "code",
   "execution_count": 7,
   "id": "1187b61d",
   "metadata": {},
   "outputs": [],
   "source": [
    "xyz_command = np.array([0.3, 0.4, 0.8])\n",
    "quaternion_command = np.array([1, 0.0, 0.0, 0.0]) # xyz-w\n",
    "gripper = 1.0 # 0.0 close, 1.0 open\n",
    "\n",
    "controller.task_space_command.publish(\n",
    "    pack.task_space_command(\"all\", xyz_command, quaternion_command, gripper))"
   ]
  },
  {
   "cell_type": "markdown",
   "id": "c7feafb1",
   "metadata": {},
   "source": [
    "---\n"
   ]
  },
  {
   "cell_type": "markdown",
   "id": "aa0d1111",
   "metadata": {},
   "source": [
    "# Joint States"
   ]
  },
  {
   "cell_type": "code",
   "execution_count": 287,
   "id": "5dde03a7",
   "metadata": {},
   "outputs": [
    {
     "data": {
      "text/plain": [
       "({'seq': 0, 'stamp': {'sec': 0, 'nsec': 0}, 'frame_id': ''},\n",
       " ['Revolute 1',\n",
       "  'Revolute 2',\n",
       "  'Revolute 3',\n",
       "  'Revolute 4',\n",
       "  'Revolute 5',\n",
       "  'Revolute 6',\n",
       "  'Slider 7'],\n",
       " array([0.99998503, 0.99998503, 0.        , 0.        , 0.        ,\n",
       "        0.        , 0.        ]),\n",
       " array([0., 0., 0., 0., 0., 0., 0.]),\n",
       " array([0., 0., 0., 0., 0., 0., 0.]))"
      ]
     },
     "execution_count": 287,
     "metadata": {},
     "output_type": "execute_result"
    }
   ],
   "source": [
    "unpack.joint_state(node.state.get())\n"
   ]
  }
 ],
 "metadata": {
  "kernelspec": {
   "display_name": "ark_env",
   "language": "python",
   "name": "python3"
  },
  "language_info": {
   "codemirror_mode": {
    "name": "ipython",
    "version": 3
   },
   "file_extension": ".py",
   "mimetype": "text/x-python",
   "name": "python",
   "nbconvert_exporter": "python",
   "pygments_lexer": "ipython3",
   "version": "3.10.18"
  }
 },
 "nbformat": 4,
 "nbformat_minor": 5
}
