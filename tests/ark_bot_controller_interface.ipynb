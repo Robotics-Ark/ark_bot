{
 "cells": [
  {
   "cell_type": "markdown",
   "id": "ced5fc05",
   "metadata": {},
   "source": [
    "#### Note:\n",
    "\n",
    "Make sure that you have these two scripts running at the same time while running this\n",
    "\n",
    "ark regsitry start\n",
    "\n",
    "python sim_node.py"
   ]
  },
  {
   "cell_type": "code",
   "execution_count": 215,
   "id": "ad5f4a86",
   "metadata": {},
   "outputs": [
    {
     "name": "stderr",
     "output_type": "stream",
     "text": [
      "\u001b[93m[WARNING] [15:07:22.465354] - No global configuration provided. Using default system configuration.\u001b[0m\n",
      "\u001b[96m[INFO] [15:07:22.469452] - Service: Successfully registered '__DEFAULT_SERVICE/GetInfo/arkbot_controller_f5dda695-c398-4cb9-9817-149905b04684' with registry.\u001b[0m\n",
      "\u001b[96m[INFO] [15:07:22.471563] - Service: Successfully registered '__DEFAULT_SERVICE/SuspendNode/arkbot_controller_f5dda695-c398-4cb9-9817-149905b04684' with registry.\u001b[0m\n",
      "\u001b[96m[INFO] [15:07:22.476646] - Service: Successfully registered '__DEFAULT_SERVICE/RestartNode/arkbot_controller_f5dda695-c398-4cb9-9817-149905b04684' with registry.\u001b[0m\n",
      "\u001b[91m[ERROR] [15:07:22.477356] - Couldn't load config for other 'arkbot_controller'\u001b[0m\n",
      "\u001b[92m\u001b[1m[OK] [15:07:22.477931] - setup publisher arkbot/joint_group_command[joint_group_command_t]\u001b[0m\n",
      "\u001b[92m\u001b[1m[OK] [15:07:22.478344] - setup publisher arkbot/cartesian_command[task_space_command_t]\u001b[0m\n",
      "\u001b[92m\u001b[1m[OK] [15:07:22.478880] - subscribed to arkbot/joint_states[joint_state_t]\u001b[0m\n"
     ]
    },
    {
     "name": "stdout",
     "output_type": "stream",
     "text": [
      "None\n"
     ]
    }
   ],
   "source": [
    "import time\n",
    "import numpy as np\n",
    "from arktypes import joint_group_command_t, task_space_command_t, joint_state_t\n",
    "from arktypes.utils import pack, unpack\n",
    "from ark.client.comm_infrastructure.instance_node import InstanceNode\n",
    "\n",
    "ROBOT_NAME = \"arkbot\"\n",
    "SIM = False\n",
    "\n",
    "class HarkControllerNode(InstanceNode):\n",
    "    def __init__(self):\n",
    "        super().__init__(\"arkbot_controller\")\n",
    "        suffix = \"/sim\" if SIM else \"\"\n",
    "        base = f\"{ROBOT_NAME}\"\n",
    "\n",
    "        # pubs\n",
    "        self.joint_group_command = self.create_publisher(f\"{base}/joint_group_command{suffix}\", joint_group_command_t)\n",
    "        self.task_space_command  = self.create_publisher(f\"{base}/cartesian_command{suffix}\", task_space_command_t)\n",
    "\n",
    "        # subs\n",
    "        self.state = self.create_listener(f\"{base}/joint_states{suffix}\", joint_state_t)\n",
    "\n",
    "node = HarkControllerNode()"
   ]
  },
  {
   "cell_type": "markdown",
   "id": "7142c226",
   "metadata": {},
   "source": [
    "---"
   ]
  },
  {
   "cell_type": "markdown",
   "id": "e9f1afe2",
   "metadata": {},
   "source": [
    "# Joint Group Control"
   ]
  },
  {
   "cell_type": "code",
   "execution_count": null,
   "id": "d86ec1f1",
   "metadata": {},
   "outputs": [],
   "source": [
    "all_cmd = [\n",
    "    0.0,   # Revolute 1 (continuous)\n",
    "     0.0,   # Revolute 2 (rad)\n",
    "     0.0,   # Revolute 4 (rad)\n",
    "     0.00,   # Revolute 5 (continuous)\n",
    "     0.00,   # Revolute 6 (rad)\n",
    "     0.000   # Slider 7 position in meters (range 0.0 .. 0.0425)\n",
    "]\n",
    "node.joint_group_command.publish(pack.joint_group_command(all_cmd, \"all\"))"
   ]
  },
  {
   "cell_type": "code",
   "execution_count": null,
   "id": "f6509e4f",
   "metadata": {},
   "outputs": [],
   "source": [
    "# save the position offset, click this once when the robot is in the zero position\n",
    "pos_off = unpack.joint_state(node.state.get())\n"
   ]
  },
  {
   "cell_type": "code",
   "execution_count": 7,
   "id": "65434399",
   "metadata": {},
   "outputs": [],
   "source": [
    "# GRIPPER (velocity mode): single value for Slider 7 velocity (m/s)\n",
    "gripper_vel_open  = [ +0.010 ]   # open slowly\n",
    "gripper_vel_close = [ -0.010 ]   # close slowly\n",
    "node.joint_group_command.publish(pack.joint_group_command(gripper_vel_open, \"gripper\"))"
   ]
  },
  {
   "cell_type": "code",
   "execution_count": 8,
   "id": "df953d1a",
   "metadata": {},
   "outputs": [],
   "source": [
    "# ARM (position mode): 6 values, Revolute 1..6\n",
    "arm_cmd = [-0.30, 0.50, 0.30, -1.00, 0.10, 0.80]\n",
    "node.joint_group_command.publish(pack.joint_group_command(arm_cmd, \"arm\"))\n"
   ]
  },
  {
   "cell_type": "markdown",
   "id": "7e0a44fc",
   "metadata": {},
   "source": [
    "---"
   ]
  },
  {
   "cell_type": "markdown",
   "id": "dd5a9751",
   "metadata": {},
   "source": [
    "# Task Space Control"
   ]
  },
  {
   "cell_type": "code",
   "execution_count": 7,
   "id": "1187b61d",
   "metadata": {},
   "outputs": [],
   "source": [
    "xyz_command = np.array([0.3, 0.4, 0.8])\n",
    "quaternion_command = np.array([1, 0.0, 0.0, 0.0]) # xyz-w\n",
    "gripper = 1.0 # 0.0 close, 1.0 open\n",
    "\n",
    "controller.task_space_command.publish(\n",
    "    pack.task_space_command(\"all\", xyz_command, quaternion_command, gripper))"
   ]
  },
  {
   "cell_type": "markdown",
   "id": "c7feafb1",
   "metadata": {},
   "source": [
    "---\n"
   ]
  },
  {
   "cell_type": "markdown",
   "id": "aa0d1111",
   "metadata": {},
   "source": [
    "# Joint States"
   ]
  },
  {
   "cell_type": "code",
   "execution_count": 222,
   "id": "5dde03a7",
   "metadata": {},
   "outputs": [
    {
     "data": {
      "text/plain": [
       "({'seq': 0, 'stamp': {'sec': 0, 'nsec': 0}, 'frame_id': ''},\n",
       " ['Revolute 1',\n",
       "  'Revolute 2',\n",
       "  'Revolute 3',\n",
       "  'Revolute 4',\n",
       "  'Revolute 5',\n",
       "  'Revolute 6',\n",
       "  'Slider 7'],\n",
       " array([0.2493571 , 0.55973255, 0.02641856, 0.67341757, 3.20755383,\n",
       "        0.79000011, 4.48229186]),\n",
       " array([0., 0., 0., 0., 0., 0., 0.]),\n",
       " array([0., 0., 0., 0., 0., 0., 0.]))"
      ]
     },
     "execution_count": 222,
     "metadata": {},
     "output_type": "execute_result"
    }
   ],
   "source": [
    "unpack.joint_state(node.state.get())\n"
   ]
  }
 ],
 "metadata": {
  "kernelspec": {
   "display_name": "ark_env",
   "language": "python",
   "name": "python3"
  },
  "language_info": {
   "codemirror_mode": {
    "name": "ipython",
    "version": 3
   },
   "file_extension": ".py",
   "mimetype": "text/x-python",
   "name": "python",
   "nbconvert_exporter": "python",
   "pygments_lexer": "ipython3",
   "version": "3.10.18"
  }
 },
 "nbformat": 4,
 "nbformat_minor": 5
}
